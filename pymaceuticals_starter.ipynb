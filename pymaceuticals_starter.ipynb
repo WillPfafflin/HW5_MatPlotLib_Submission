{
 "cells": [
  {
   "cell_type": "markdown",
   "metadata": {},
   "source": [
    "## Observations and Insights "
   ]
  },
  {
   "cell_type": "markdown",
   "metadata": {},
   "source": []
  },
  {
   "cell_type": "markdown",
   "metadata": {},
   "source": [
    "# Three Observations"
   ]
  },
  {
   "cell_type": "markdown",
   "metadata": {},
   "source": [
    "### 1. Mouse weight and tumor weight have a very strong correlation when speaking of the Capomulin treatment. This could mean that as the tumor gets smaller in the mouse, the mouse weight is reducing just as fast. \n",
    "### 2. Infubinol was the only regimen out of the 4 selected to have an outlier leading me to believe that it should be thrown out of the tests and we should focus on regimens that have more consistent data. This can also be seen in the variance table with Infubinol having the highest variance of the 4.\n",
    "### 3. Although it was just one mouse at first, the Capomulin seemed to work very well over time to reduce s185's tumor weight. Creating a similar chart for all test subjects using Capomulin may show similar promising results."
   ]
  },
  {
   "cell_type": "code",
   "execution_count": 1,
   "metadata": {},
   "outputs": [
    {
     "data": {
      "text/html": [
       "<div>\n",
       "<style scoped>\n",
       "    .dataframe tbody tr th:only-of-type {\n",
       "        vertical-align: middle;\n",
       "    }\n",
       "\n",
       "    .dataframe tbody tr th {\n",
       "        vertical-align: top;\n",
       "    }\n",
       "\n",
       "    .dataframe thead th {\n",
       "        text-align: right;\n",
       "    }\n",
       "</style>\n",
       "<table border=\"1\" class=\"dataframe\">\n",
       "  <thead>\n",
       "    <tr style=\"text-align: right;\">\n",
       "      <th></th>\n",
       "      <th>Mouse ID</th>\n",
       "      <th>Drug Regimen</th>\n",
       "      <th>Sex</th>\n",
       "      <th>Age_months</th>\n",
       "      <th>Weight (g)</th>\n",
       "      <th>Timepoint</th>\n",
       "      <th>Tumor Volume (mm3)</th>\n",
       "      <th>Metastatic Sites</th>\n",
       "    </tr>\n",
       "  </thead>\n",
       "  <tbody>\n",
       "    <tr>\n",
       "      <th>0</th>\n",
       "      <td>k403</td>\n",
       "      <td>Ramicane</td>\n",
       "      <td>Male</td>\n",
       "      <td>21</td>\n",
       "      <td>16</td>\n",
       "      <td>0</td>\n",
       "      <td>45.000000</td>\n",
       "      <td>0</td>\n",
       "    </tr>\n",
       "    <tr>\n",
       "      <th>1</th>\n",
       "      <td>k403</td>\n",
       "      <td>Ramicane</td>\n",
       "      <td>Male</td>\n",
       "      <td>21</td>\n",
       "      <td>16</td>\n",
       "      <td>5</td>\n",
       "      <td>38.825898</td>\n",
       "      <td>0</td>\n",
       "    </tr>\n",
       "    <tr>\n",
       "      <th>2</th>\n",
       "      <td>k403</td>\n",
       "      <td>Ramicane</td>\n",
       "      <td>Male</td>\n",
       "      <td>21</td>\n",
       "      <td>16</td>\n",
       "      <td>10</td>\n",
       "      <td>35.014271</td>\n",
       "      <td>1</td>\n",
       "    </tr>\n",
       "    <tr>\n",
       "      <th>3</th>\n",
       "      <td>k403</td>\n",
       "      <td>Ramicane</td>\n",
       "      <td>Male</td>\n",
       "      <td>21</td>\n",
       "      <td>16</td>\n",
       "      <td>15</td>\n",
       "      <td>34.223992</td>\n",
       "      <td>1</td>\n",
       "    </tr>\n",
       "    <tr>\n",
       "      <th>4</th>\n",
       "      <td>k403</td>\n",
       "      <td>Ramicane</td>\n",
       "      <td>Male</td>\n",
       "      <td>21</td>\n",
       "      <td>16</td>\n",
       "      <td>20</td>\n",
       "      <td>32.997729</td>\n",
       "      <td>1</td>\n",
       "    </tr>\n",
       "  </tbody>\n",
       "</table>\n",
       "</div>"
      ],
      "text/plain": [
       "  Mouse ID Drug Regimen   Sex  Age_months  Weight (g)  Timepoint  \\\n",
       "0     k403     Ramicane  Male          21          16          0   \n",
       "1     k403     Ramicane  Male          21          16          5   \n",
       "2     k403     Ramicane  Male          21          16         10   \n",
       "3     k403     Ramicane  Male          21          16         15   \n",
       "4     k403     Ramicane  Male          21          16         20   \n",
       "\n",
       "   Tumor Volume (mm3)  Metastatic Sites  \n",
       "0           45.000000                 0  \n",
       "1           38.825898                 0  \n",
       "2           35.014271                 1  \n",
       "3           34.223992                 1  \n",
       "4           32.997729                 1  "
      ]
     },
     "execution_count": 1,
     "metadata": {},
     "output_type": "execute_result"
    }
   ],
   "source": [
    "# Dependencies and Setup\n",
    "import matplotlib.pyplot as plt\n",
    "import pandas as pd\n",
    "import scipy.stats as st\n",
    "import numpy as np\n",
    "import seaborn as sns\n",
    "\n",
    "# Study data files\n",
    "mouse_metadata_path = \"data/Mouse_metadata.csv\"\n",
    "study_results_path = \"data/Study_results.csv\"\n",
    "\n",
    "# Read the mouse data and the study results\n",
    "mouse_metadata = pd.read_csv(mouse_metadata_path)\n",
    "study_results = pd.read_csv(study_results_path)\n",
    "\n",
    "# Combine the data into a single dataset\n",
    "\n",
    "mouse_df = pd.merge(mouse_metadata,study_results,on=\"Mouse ID\")\n",
    "\n",
    "\n",
    "\n",
    "# Display the data table for preview\n",
    "mouse_df.head()\n"
   ]
  },
  {
   "cell_type": "code",
   "execution_count": 36,
   "metadata": {},
   "outputs": [
    {
     "name": "stdout",
     "output_type": "stream",
     "text": [
      "The number of mice in this study is 249\n"
     ]
    }
   ],
   "source": [
    "# Checking the number of mice.\n",
    "print(f'The number of mice in this study is {len(mouse_df[\"Mouse ID\"].unique())}')"
   ]
  },
  {
   "cell_type": "code",
   "execution_count": 37,
   "metadata": {},
   "outputs": [
    {
     "data": {
      "text/plain": [
       "array(['g989', 'o331', 'm650', 'p438', 'w422', 'n364', 'r554', 'u327',\n",
       "       'b879', 'a444', 'j119', 's565', 'e584', 'h246', 'e476', 'v923',\n",
       "       'q633', 'p136', 'x401', 'v991', 'q511', 'a897', 'i738', 'u364',\n",
       "       'y163', 't724', 'b742', 'g296', 'u196', 'k862', 's508', 'l471',\n",
       "       'c832', 'y260', 'm601', 'w151', 'r604', 'a203', 'x402', 't718',\n",
       "       'c758', 's710', 'x773', 'm269', 'l897', 'r944', 'c766', 'a401',\n",
       "       'g570', 'l733', 'i635', 'b559', 't451', 'y478', 'z969', 'j984',\n",
       "       'j989', 'w575', 'y793', 'e662', 'f545', 'w914', 'o926', 's185',\n",
       "       'a262', 'a411', 'i334', 'k483', 'i901', 'j913', 'y769', 'q597',\n",
       "       'a275', 'p189', 'k382', 'x581', 'i557', 'a251', 'j296', 'g288',\n",
       "       'f345', 't198', 'a492', 'r701', 'a963', 'z578', 'z581', 'c282',\n",
       "       'a685', 'c264', 'g497', 'j755', 'y865', 'x822', 'g791', 'g316',\n",
       "       'b128', 'o562', 's337', 'm546', 'r811', 'z795', 'q787', 'm550',\n",
       "       'l509', 't565', 'a644', 'w350', 'o795', 'a818', 'd251', 'e227',\n",
       "       'k894', 'c402', 'l700', 'k210', 'n304', 'c757', 'a699', 'l725',\n",
       "       'l661', 'i177', 'm957', 'j365', 'c559', 'a520', 'c139', 'c302',\n",
       "       'k403', 'e213', 'o287', 'o973', 'x264', 'v295', 'c819', 'c927',\n",
       "       'p387', 'd474', 'n763', 'q483', 'n923', 'g558', 'i386', 'j246',\n",
       "       'f234', 'w697', 'o809', 'w167', 'g107', 'q582', 'q610', 'v603',\n",
       "       'p981', 'k804', 'a577', 'c458', 'w584', 's141', 'r921', 'a788',\n",
       "       'h333', 'c580', 'n671', 'b759', 'l490', 'r107', 'o302', 's187',\n",
       "       'a366', 'c895', 'q132', 'x930', 'i669', 'b487', 'w540', 'e291',\n",
       "       'p310', 'v289', 'm133', 'b313', 's152', 'u149', 's121', 'j235',\n",
       "       'v835', 'u946', 't994', 'f966', 'f993', 'k510', 'k754', 'w193',\n",
       "       'k603', 'v719', 'g867', 'f129', 'v764', 'v766', 'm331', 'o725',\n",
       "       'x613', 'f436', 'n967', 'r850', 'r157', 'y449', 'z435', 'x111',\n",
       "       'l558', 's166', 'l264', 'x209', 'd164', 'l215', 'a457', 'n678',\n",
       "       'o523', 'i477', 'w150', 'v989', 'q119', 'v409', 'z314', 'n630',\n",
       "       'm756', 'o813', 'w746', 'y601', 'v339', 'h531', 'c326', 'w678',\n",
       "       'f394', 'f278', 'z234', 's619', 'w140'], dtype=object)"
      ]
     },
     "execution_count": 37,
     "metadata": {},
     "output_type": "execute_result"
    }
   ],
   "source": [
    "# Getting the duplicate mice by ID number that shows up for Mouse ID and Timepoint. \n",
    "dup_mouse = pd.DataFrame(mouse_df[\"Mouse ID\"].value_counts().reset_index())\n",
    "\n",
    "dup_mouse=dup_mouse.rename(columns = {'index': 'Mouse ID', 'Mouse ID':'Count'})\n",
    "\n",
    "dup_mouse = dup_mouse[dup_mouse.Count !=1]\n",
    "\n",
    "dupes = dup_mouse[\"Mouse ID\"].unique()\n",
    "\n",
    "dupes"
   ]
  },
  {
   "cell_type": "code",
   "execution_count": 38,
   "metadata": {},
   "outputs": [
    {
     "data": {
      "text/html": [
       "<div>\n",
       "<style scoped>\n",
       "    .dataframe tbody tr th:only-of-type {\n",
       "        vertical-align: middle;\n",
       "    }\n",
       "\n",
       "    .dataframe tbody tr th {\n",
       "        vertical-align: top;\n",
       "    }\n",
       "\n",
       "    .dataframe thead th {\n",
       "        text-align: right;\n",
       "    }\n",
       "</style>\n",
       "<table border=\"1\" class=\"dataframe\">\n",
       "  <thead>\n",
       "    <tr style=\"text-align: right;\">\n",
       "      <th></th>\n",
       "      <th>Mouse ID</th>\n",
       "      <th>Drug Regimen</th>\n",
       "      <th>Sex</th>\n",
       "      <th>Age_months</th>\n",
       "      <th>Weight (g)</th>\n",
       "      <th>Timepoint</th>\n",
       "      <th>Tumor Volume (mm3)</th>\n",
       "      <th>Metastatic Sites</th>\n",
       "    </tr>\n",
       "  </thead>\n",
       "  <tbody>\n",
       "    <tr>\n",
       "      <th>9</th>\n",
       "      <td>k403</td>\n",
       "      <td>Ramicane</td>\n",
       "      <td>Male</td>\n",
       "      <td>21</td>\n",
       "      <td>16</td>\n",
       "      <td>45</td>\n",
       "      <td>22.050126</td>\n",
       "      <td>1</td>\n",
       "    </tr>\n",
       "    <tr>\n",
       "      <th>19</th>\n",
       "      <td>s185</td>\n",
       "      <td>Capomulin</td>\n",
       "      <td>Female</td>\n",
       "      <td>3</td>\n",
       "      <td>17</td>\n",
       "      <td>45</td>\n",
       "      <td>23.343598</td>\n",
       "      <td>1</td>\n",
       "    </tr>\n",
       "    <tr>\n",
       "      <th>29</th>\n",
       "      <td>x401</td>\n",
       "      <td>Capomulin</td>\n",
       "      <td>Female</td>\n",
       "      <td>16</td>\n",
       "      <td>15</td>\n",
       "      <td>45</td>\n",
       "      <td>28.484033</td>\n",
       "      <td>0</td>\n",
       "    </tr>\n",
       "    <tr>\n",
       "      <th>39</th>\n",
       "      <td>m601</td>\n",
       "      <td>Capomulin</td>\n",
       "      <td>Male</td>\n",
       "      <td>22</td>\n",
       "      <td>17</td>\n",
       "      <td>45</td>\n",
       "      <td>28.430964</td>\n",
       "      <td>1</td>\n",
       "    </tr>\n",
       "    <tr>\n",
       "      <th>49</th>\n",
       "      <td>g791</td>\n",
       "      <td>Ramicane</td>\n",
       "      <td>Male</td>\n",
       "      <td>11</td>\n",
       "      <td>16</td>\n",
       "      <td>45</td>\n",
       "      <td>29.128472</td>\n",
       "      <td>1</td>\n",
       "    </tr>\n",
       "  </tbody>\n",
       "</table>\n",
       "</div>"
      ],
      "text/plain": [
       "   Mouse ID Drug Regimen     Sex  Age_months  Weight (g)  Timepoint  \\\n",
       "9      k403     Ramicane    Male          21          16         45   \n",
       "19     s185    Capomulin  Female           3          17         45   \n",
       "29     x401    Capomulin  Female          16          15         45   \n",
       "39     m601    Capomulin    Male          22          17         45   \n",
       "49     g791     Ramicane    Male          11          16         45   \n",
       "\n",
       "    Tumor Volume (mm3)  Metastatic Sites  \n",
       "9            22.050126                 1  \n",
       "19           23.343598                 1  \n",
       "29           28.484033                 0  \n",
       "39           28.430964                 1  \n",
       "49           29.128472                 1  "
      ]
     },
     "execution_count": 38,
     "metadata": {},
     "output_type": "execute_result"
    }
   ],
   "source": [
    "# Create a clean DataFrame by dropping the duplicate mouse by its ID.\n",
    "\n",
    "mouse_df.sort_values(by=\"Timepoint\")\n",
    "\n",
    "mice_df = mouse_df.drop_duplicates(subset=\"Mouse ID\",keep=\"last\")\n",
    "\n",
    "mice_df.head()\n",
    "\n"
   ]
  },
  {
   "cell_type": "code",
   "execution_count": 39,
   "metadata": {},
   "outputs": [
    {
     "name": "stdout",
     "output_type": "stream",
     "text": [
      "The number of mice in the cleaned data set is 249\n"
     ]
    }
   ],
   "source": [
    "# Checking the number of mice in the clean DataFrame.\n",
    "\n",
    "print(f'The number of mice in the cleaned data set is {len(mice_df[\"Mouse ID\"].unique())}')\n"
   ]
  },
  {
   "cell_type": "markdown",
   "metadata": {},
   "source": [
    "## Summary Statistics"
   ]
  },
  {
   "cell_type": "code",
   "execution_count": 40,
   "metadata": {},
   "outputs": [
    {
     "data": {
      "text/html": [
       "<div>\n",
       "<style scoped>\n",
       "    .dataframe tbody tr th:only-of-type {\n",
       "        vertical-align: middle;\n",
       "    }\n",
       "\n",
       "    .dataframe tbody tr th {\n",
       "        vertical-align: top;\n",
       "    }\n",
       "\n",
       "    .dataframe thead th {\n",
       "        text-align: right;\n",
       "    }\n",
       "</style>\n",
       "<table border=\"1\" class=\"dataframe\">\n",
       "  <thead>\n",
       "    <tr style=\"text-align: right;\">\n",
       "      <th></th>\n",
       "      <th>Drug Regimen</th>\n",
       "      <th>Mean</th>\n",
       "      <th>Median</th>\n",
       "      <th>Variance</th>\n",
       "      <th>Standard Deviance</th>\n",
       "      <th>SEM</th>\n",
       "    </tr>\n",
       "  </thead>\n",
       "  <tbody>\n",
       "    <tr>\n",
       "      <th>1</th>\n",
       "      <td>Capomulin</td>\n",
       "      <td>36.667568</td>\n",
       "      <td>38.125164</td>\n",
       "      <td>32.663378</td>\n",
       "      <td>5.715188</td>\n",
       "      <td>1.143038</td>\n",
       "    </tr>\n",
       "    <tr>\n",
       "      <th>4</th>\n",
       "      <td>Ceftamin</td>\n",
       "      <td>57.753977</td>\n",
       "      <td>59.851956</td>\n",
       "      <td>69.982735</td>\n",
       "      <td>8.365568</td>\n",
       "      <td>1.673114</td>\n",
       "    </tr>\n",
       "    <tr>\n",
       "      <th>2</th>\n",
       "      <td>Infubinol</td>\n",
       "      <td>58.178246</td>\n",
       "      <td>60.165180</td>\n",
       "      <td>74.010875</td>\n",
       "      <td>8.602957</td>\n",
       "      <td>1.720591</td>\n",
       "    </tr>\n",
       "    <tr>\n",
       "      <th>7</th>\n",
       "      <td>Ketapril</td>\n",
       "      <td>62.806191</td>\n",
       "      <td>64.487812</td>\n",
       "      <td>98.921330</td>\n",
       "      <td>9.945920</td>\n",
       "      <td>1.989184</td>\n",
       "    </tr>\n",
       "    <tr>\n",
       "      <th>9</th>\n",
       "      <td>Naftisol</td>\n",
       "      <td>61.205757</td>\n",
       "      <td>63.283288</td>\n",
       "      <td>106.029927</td>\n",
       "      <td>10.297083</td>\n",
       "      <td>2.059417</td>\n",
       "    </tr>\n",
       "    <tr>\n",
       "      <th>3</th>\n",
       "      <td>Placebo</td>\n",
       "      <td>60.508414</td>\n",
       "      <td>62.030594</td>\n",
       "      <td>78.759797</td>\n",
       "      <td>8.874672</td>\n",
       "      <td>1.774934</td>\n",
       "    </tr>\n",
       "    <tr>\n",
       "      <th>8</th>\n",
       "      <td>Propriva</td>\n",
       "      <td>56.736964</td>\n",
       "      <td>55.841410</td>\n",
       "      <td>69.349002</td>\n",
       "      <td>8.327605</td>\n",
       "      <td>1.665521</td>\n",
       "    </tr>\n",
       "    <tr>\n",
       "      <th>0</th>\n",
       "      <td>Ramicane</td>\n",
       "      <td>36.191390</td>\n",
       "      <td>36.561652</td>\n",
       "      <td>32.166354</td>\n",
       "      <td>5.671539</td>\n",
       "      <td>1.134308</td>\n",
       "    </tr>\n",
       "    <tr>\n",
       "      <th>5</th>\n",
       "      <td>Stelasyn</td>\n",
       "      <td>61.001707</td>\n",
       "      <td>62.192350</td>\n",
       "      <td>90.331586</td>\n",
       "      <td>9.504293</td>\n",
       "      <td>1.940056</td>\n",
       "    </tr>\n",
       "    <tr>\n",
       "      <th>6</th>\n",
       "      <td>Zoniferol</td>\n",
       "      <td>59.181258</td>\n",
       "      <td>61.840058</td>\n",
       "      <td>76.862027</td>\n",
       "      <td>8.767099</td>\n",
       "      <td>1.753420</td>\n",
       "    </tr>\n",
       "  </tbody>\n",
       "</table>\n",
       "</div>"
      ],
      "text/plain": [
       "  Drug Regimen       Mean     Median    Variance  Standard Deviance       SEM\n",
       "1    Capomulin  36.667568  38.125164   32.663378           5.715188  1.143038\n",
       "4     Ceftamin  57.753977  59.851956   69.982735           8.365568  1.673114\n",
       "2    Infubinol  58.178246  60.165180   74.010875           8.602957  1.720591\n",
       "7     Ketapril  62.806191  64.487812   98.921330           9.945920  1.989184\n",
       "9     Naftisol  61.205757  63.283288  106.029927          10.297083  2.059417\n",
       "3      Placebo  60.508414  62.030594   78.759797           8.874672  1.774934\n",
       "8     Propriva  56.736964  55.841410   69.349002           8.327605  1.665521\n",
       "0     Ramicane  36.191390  36.561652   32.166354           5.671539  1.134308\n",
       "5     Stelasyn  61.001707  62.192350   90.331586           9.504293  1.940056\n",
       "6    Zoniferol  59.181258  61.840058   76.862027           8.767099  1.753420"
      ]
     },
     "execution_count": 40,
     "metadata": {},
     "output_type": "execute_result"
    }
   ],
   "source": [
    "# Generate a summary statistics table of mean, median, variance, standard deviation, and SEM of the tumor volume for each regimen\n",
    "\n",
    "# This method is the most straighforward, creating multiple series and putting them all together at the end.\n",
    "# This method is the most straighforward, creating multiple series and putting them all together at the end.\n",
    "drug = mice_df['Drug Regimen'].unique()\n",
    "drug_mean = []\n",
    "drug_median = []\n",
    "drug_var=[]\n",
    "drug_std=[]\n",
    "drug_sem=[]\n",
    "\n",
    "for x in drug:\n",
    "    drug_df=mice_df.loc[mice_df['Drug Regimen'] == x]\n",
    "    drug_mean.append(drug_df['Tumor Volume (mm3)'].mean())\n",
    "    drug_median.append(drug_df['Tumor Volume (mm3)'].median())\n",
    "    drug_var.append(drug_df['Tumor Volume (mm3)'].var())\n",
    "    drug_std.append(drug_df['Tumor Volume (mm3)'].std())\n",
    "    drug_sem.append(drug_df['Tumor Volume (mm3)'].sem())\n",
    "\n",
    "\n",
    "\n",
    "drug_pd_df=pd.DataFrame({\"Drug Regimen\":drug,\n",
    "                         \"Mean\":drug_mean,\n",
    "                         \"Median\":drug_median,\n",
    "                         \"Variance\":drug_var,\n",
    "                         \"Standard Deviance\":drug_std,\n",
    "                         \"SEM\":drug_sem})\n",
    "\n",
    "drug_pd_df.sort_values(by=[\"Drug Regimen\"])\n",
    "\n"
   ]
  },
  {
   "cell_type": "code",
   "execution_count": 41,
   "metadata": {},
   "outputs": [
    {
     "data": {
      "text/html": [
       "<div>\n",
       "<style scoped>\n",
       "    .dataframe tbody tr th:only-of-type {\n",
       "        vertical-align: middle;\n",
       "    }\n",
       "\n",
       "    .dataframe tbody tr th {\n",
       "        vertical-align: top;\n",
       "    }\n",
       "\n",
       "    .dataframe thead tr th {\n",
       "        text-align: left;\n",
       "    }\n",
       "\n",
       "    .dataframe thead tr:last-of-type th {\n",
       "        text-align: right;\n",
       "    }\n",
       "</style>\n",
       "<table border=\"1\" class=\"dataframe\">\n",
       "  <thead>\n",
       "    <tr>\n",
       "      <th></th>\n",
       "      <th colspan=\"5\" halign=\"left\">Tumor Volume (mm3)</th>\n",
       "    </tr>\n",
       "    <tr>\n",
       "      <th></th>\n",
       "      <th>mean</th>\n",
       "      <th>median</th>\n",
       "      <th>var</th>\n",
       "      <th>std</th>\n",
       "      <th>sem</th>\n",
       "    </tr>\n",
       "    <tr>\n",
       "      <th>Drug Regimen</th>\n",
       "      <th></th>\n",
       "      <th></th>\n",
       "      <th></th>\n",
       "      <th></th>\n",
       "      <th></th>\n",
       "    </tr>\n",
       "  </thead>\n",
       "  <tbody>\n",
       "    <tr>\n",
       "      <th>Capomulin</th>\n",
       "      <td>36.667568</td>\n",
       "      <td>38.125164</td>\n",
       "      <td>32.663378</td>\n",
       "      <td>5.715188</td>\n",
       "      <td>1.143038</td>\n",
       "    </tr>\n",
       "    <tr>\n",
       "      <th>Ceftamin</th>\n",
       "      <td>57.753977</td>\n",
       "      <td>59.851956</td>\n",
       "      <td>69.982735</td>\n",
       "      <td>8.365568</td>\n",
       "      <td>1.673114</td>\n",
       "    </tr>\n",
       "    <tr>\n",
       "      <th>Infubinol</th>\n",
       "      <td>58.178246</td>\n",
       "      <td>60.165180</td>\n",
       "      <td>74.010875</td>\n",
       "      <td>8.602957</td>\n",
       "      <td>1.720591</td>\n",
       "    </tr>\n",
       "    <tr>\n",
       "      <th>Ketapril</th>\n",
       "      <td>62.806191</td>\n",
       "      <td>64.487812</td>\n",
       "      <td>98.921330</td>\n",
       "      <td>9.945920</td>\n",
       "      <td>1.989184</td>\n",
       "    </tr>\n",
       "    <tr>\n",
       "      <th>Naftisol</th>\n",
       "      <td>61.205757</td>\n",
       "      <td>63.283288</td>\n",
       "      <td>106.029927</td>\n",
       "      <td>10.297083</td>\n",
       "      <td>2.059417</td>\n",
       "    </tr>\n",
       "    <tr>\n",
       "      <th>Placebo</th>\n",
       "      <td>60.508414</td>\n",
       "      <td>62.030594</td>\n",
       "      <td>78.759797</td>\n",
       "      <td>8.874672</td>\n",
       "      <td>1.774934</td>\n",
       "    </tr>\n",
       "    <tr>\n",
       "      <th>Propriva</th>\n",
       "      <td>56.736964</td>\n",
       "      <td>55.841410</td>\n",
       "      <td>69.349002</td>\n",
       "      <td>8.327605</td>\n",
       "      <td>1.665521</td>\n",
       "    </tr>\n",
       "    <tr>\n",
       "      <th>Ramicane</th>\n",
       "      <td>36.191390</td>\n",
       "      <td>36.561652</td>\n",
       "      <td>32.166354</td>\n",
       "      <td>5.671539</td>\n",
       "      <td>1.134308</td>\n",
       "    </tr>\n",
       "    <tr>\n",
       "      <th>Stelasyn</th>\n",
       "      <td>61.001707</td>\n",
       "      <td>62.192350</td>\n",
       "      <td>90.331586</td>\n",
       "      <td>9.504293</td>\n",
       "      <td>1.940056</td>\n",
       "    </tr>\n",
       "    <tr>\n",
       "      <th>Zoniferol</th>\n",
       "      <td>59.181258</td>\n",
       "      <td>61.840058</td>\n",
       "      <td>76.862027</td>\n",
       "      <td>8.767099</td>\n",
       "      <td>1.753420</td>\n",
       "    </tr>\n",
       "  </tbody>\n",
       "</table>\n",
       "</div>"
      ],
      "text/plain": [
       "             Tumor Volume (mm3)                                            \n",
       "                           mean     median         var        std       sem\n",
       "Drug Regimen                                                               \n",
       "Capomulin             36.667568  38.125164   32.663378   5.715188  1.143038\n",
       "Ceftamin              57.753977  59.851956   69.982735   8.365568  1.673114\n",
       "Infubinol             58.178246  60.165180   74.010875   8.602957  1.720591\n",
       "Ketapril              62.806191  64.487812   98.921330   9.945920  1.989184\n",
       "Naftisol              61.205757  63.283288  106.029927  10.297083  2.059417\n",
       "Placebo               60.508414  62.030594   78.759797   8.874672  1.774934\n",
       "Propriva              56.736964  55.841410   69.349002   8.327605  1.665521\n",
       "Ramicane              36.191390  36.561652   32.166354   5.671539  1.134308\n",
       "Stelasyn              61.001707  62.192350   90.331586   9.504293  1.940056\n",
       "Zoniferol             59.181258  61.840058   76.862027   8.767099  1.753420"
      ]
     },
     "execution_count": 41,
     "metadata": {},
     "output_type": "execute_result"
    }
   ],
   "source": [
    "# Generate a summary statistics table of mean, median, variance, standard deviation, and SEM of the tumor volume for each regimen\n",
    "\n",
    "# This method produces everything in a single groupby function\n",
    "\n",
    "stats_table_groupby = mice_df.groupby(\"Drug Regimen\").agg({'Tumor Volume (mm3)':['mean','median','var','std','sem']})\n",
    "\n",
    "stats_table_groupby\n",
    "\n"
   ]
  },
  {
   "cell_type": "markdown",
   "metadata": {},
   "source": [
    "## Bar and Pie Charts"
   ]
  },
  {
   "cell_type": "code",
   "execution_count": 42,
   "metadata": {},
   "outputs": [
    {
     "data": {
      "text/plain": [
       "Text(0, 0.5, 'Number of Mice')"
      ]
     },
     "execution_count": 42,
     "metadata": {},
     "output_type": "execute_result"
    },
    {
     "data": {
      "image/png": "[encoded data removed]",
      "text/plain": [
       "<Figure size 432x288 with 1 Axes>"
      ]
     },
     "metadata": {
      "needs_background": "light"
     },
     "output_type": "display_data"
    }
   ],
   "source": [
    "# Generate a bar plot showing the total number of mice for each treatment throughout the course of the study using pandas. \n",
    "\n",
    "mice_per_drug = (mice_df.groupby(\"Drug Regimen\").agg({'Mouse ID':'count'})).reset_index()\n",
    "ax = mice_per_drug.plot(kind=\"bar\",x=\"Drug Regimen\",y=\"Mouse ID\",legend=None,width=.75)\n",
    "plt.title(\"Number of Mice in Study per Treatment\")\n",
    "plt.xlabel(\"Drug Treatment\")\n",
    "plt.ylabel(\"Number of Mice\")\n"
   ]
  },
  {
   "cell_type": "code",
   "execution_count": 43,
   "metadata": {},
   "outputs": [
    {
     "data": {
      "text/plain": [
       "Text(0, 0.5, 'Number of Mice')"
      ]
     },
     "execution_count": 43,
     "metadata": {},
     "output_type": "execute_result"
    },
    {
     "data": {
      "image/png": "[encoded data removed]",
      "text/plain": [
       "<Figure size 432x288 with 1 Axes>"
      ]
     },
     "metadata": {
      "needs_background": "light"
     },
     "output_type": "display_data"
    }
   ],
   "source": [
    "# Generate a bar plot showing the total number of mice for each treatment throughout the course of the study using pyplot.\n",
    "\n",
    "mice_per_drug = (mice_df.groupby(\"Drug Regimen\").agg({'Mouse ID':'count'})).reset_index()\n",
    "x_values = mice_per_drug['Drug Regimen']\n",
    "y_values = mice_per_drug['Mouse ID']\n",
    "\n",
    "plt.bar(x_values,y_values)\n",
    "plt.title(\"Number of Mice in Study per Treatment\")\n",
    "plt.xticks(rotation=90)\n",
    "plt.xlabel(\"Drug Treatment\")\n",
    "plt.ylabel(\"Number of Mice\")\n"
   ]
  },
  {
   "cell_type": "code",
   "execution_count": 44,
   "metadata": {},
   "outputs": [
    {
     "data": {
      "text/plain": [
       "Text(0.5, 1.0, 'Percentage of Mice in Study')"
      ]
     },
     "execution_count": 44,
     "metadata": {},
     "output_type": "execute_result"
    },
    {
     "data": {
      "image/png": "[encoded data removed]",
      "text/plain": [
       "<Figure size 432x288 with 1 Axes>"
      ]
     },
     "metadata": {},
     "output_type": "display_data"
    }
   ],
   "source": [
    "# Generate a pie plot showing the distribution of female versus male mice using pandas\n",
    "\n",
    "female_vs_male = mice_per_drug = pd.DataFrame(mice_df['Sex'].value_counts().reset_index())\n",
    "female_vs_male=female_vs_male.rename(columns = {'index': 'Sex', 'Sex':'Number of Mice'})\n",
    "female_vs_male=female_vs_male.set_index(\"Sex\")\n",
    "female_vs_male.plot.pie(y=\"Number of Mice\",autopct='%.2f%%',legend=None)\n",
    "plt.title(\"Percentage of Mice in Study\")\n"
   ]
  },
  {
   "cell_type": "code",
   "execution_count": 45,
   "metadata": {},
   "outputs": [
    {
     "data": {
      "image/png": "[encoded data removed]",
      "text/plain": [
       "<Figure size 432x288 with 1 Axes>"
      ]
     },
     "metadata": {},
     "output_type": "display_data"
    }
   ],
   "source": [
    "# Generate a pie plot showing the distribution of female versus male mice using pyplot\n",
    "\n",
    "labels=[\"Male\",\"Female\"]\n",
    "\n",
    "plt.pie(female_vs_male[\"Number of Mice\"],labels=labels,autopct='%.2f%%',shadow=True)\n",
    "plt.legend(loc=\"best\")\n",
    "plt.title(\"Percentage of Mice in Study\")\n",
    "plt.show()"
   ]
  },
  {
   "cell_type": "markdown",
   "metadata": {},
   "source": [
    "## Quartiles, Outliers and Boxplots"
   ]
  },
  {
   "cell_type": "code",
   "execution_count": 46,
   "metadata": {},
   "outputs": [
    {
     "data": {
      "text/html": [
       "<div>\n",
       "<style scoped>\n",
       "    .dataframe tbody tr th:only-of-type {\n",
       "        vertical-align: middle;\n",
       "    }\n",
       "\n",
       "    .dataframe tbody tr th {\n",
       "        vertical-align: top;\n",
       "    }\n",
       "\n",
       "    .dataframe thead th {\n",
       "        text-align: right;\n",
       "    }\n",
       "</style>\n",
       "<table border=\"1\" class=\"dataframe\">\n",
       "  <thead>\n",
       "    <tr style=\"text-align: right;\">\n",
       "      <th></th>\n",
       "      <th>Mouse ID</th>\n",
       "      <th>Timepoint</th>\n",
       "      <th>Drug Regimen</th>\n",
       "      <th>Sex</th>\n",
       "      <th>Age_months</th>\n",
       "      <th>Weight (g)</th>\n",
       "      <th>Tumor Volume (mm3)</th>\n",
       "      <th>Metastatic Sites</th>\n",
       "    </tr>\n",
       "  </thead>\n",
       "  <tbody>\n",
       "    <tr>\n",
       "      <th>0</th>\n",
       "      <td>k403</td>\n",
       "      <td>45</td>\n",
       "      <td>Ramicane</td>\n",
       "      <td>Male</td>\n",
       "      <td>21</td>\n",
       "      <td>16</td>\n",
       "      <td>22.050126</td>\n",
       "      <td>1</td>\n",
       "    </tr>\n",
       "    <tr>\n",
       "      <th>1</th>\n",
       "      <td>s185</td>\n",
       "      <td>45</td>\n",
       "      <td>Capomulin</td>\n",
       "      <td>Female</td>\n",
       "      <td>3</td>\n",
       "      <td>17</td>\n",
       "      <td>23.343598</td>\n",
       "      <td>1</td>\n",
       "    </tr>\n",
       "    <tr>\n",
       "      <th>2</th>\n",
       "      <td>x401</td>\n",
       "      <td>45</td>\n",
       "      <td>Capomulin</td>\n",
       "      <td>Female</td>\n",
       "      <td>16</td>\n",
       "      <td>15</td>\n",
       "      <td>28.484033</td>\n",
       "      <td>0</td>\n",
       "    </tr>\n",
       "    <tr>\n",
       "      <th>3</th>\n",
       "      <td>m601</td>\n",
       "      <td>45</td>\n",
       "      <td>Capomulin</td>\n",
       "      <td>Male</td>\n",
       "      <td>22</td>\n",
       "      <td>17</td>\n",
       "      <td>28.430964</td>\n",
       "      <td>1</td>\n",
       "    </tr>\n",
       "    <tr>\n",
       "      <th>4</th>\n",
       "      <td>g791</td>\n",
       "      <td>45</td>\n",
       "      <td>Ramicane</td>\n",
       "      <td>Male</td>\n",
       "      <td>11</td>\n",
       "      <td>16</td>\n",
       "      <td>29.128472</td>\n",
       "      <td>1</td>\n",
       "    </tr>\n",
       "  </tbody>\n",
       "</table>\n",
       "</div>"
      ],
      "text/plain": [
       "  Mouse ID  Timepoint Drug Regimen     Sex  Age_months  Weight (g)  \\\n",
       "0     k403         45     Ramicane    Male          21          16   \n",
       "1     s185         45    Capomulin  Female           3          17   \n",
       "2     x401         45    Capomulin  Female          16          15   \n",
       "3     m601         45    Capomulin    Male          22          17   \n",
       "4     g791         45     Ramicane    Male          11          16   \n",
       "\n",
       "   Tumor Volume (mm3)  Metastatic Sites  \n",
       "0           22.050126                 1  \n",
       "1           23.343598                 1  \n",
       "2           28.484033                 0  \n",
       "3           28.430964                 1  \n",
       "4           29.128472                 1  "
      ]
     },
     "execution_count": 46,
     "metadata": {},
     "output_type": "execute_result"
    }
   ],
   "source": [
    "# Calculate the final tumor volume of each mouse across four of the treatment regimens:  \n",
    "# Capomulin, Ramicane, Infubinol, and Ceftamin\n",
    "\n",
    "# Start by getting the last (greatest) timepoint for each mouse\n",
    "\n",
    "\n",
    "# Merge this group df with the original dataframe to get the tumor volume at the last timepoint\n",
    "\n",
    "\n",
    "last_time_per_mouse = mice_df[[\"Mouse ID\",\"Timepoint\"]]\n",
    "\n",
    "new_mouse_df=pd.merge(last_time_per_mouse,mouse_df,on=[\"Mouse ID\",\"Timepoint\"],how=\"inner\")\n",
    "\n",
    "new_mouse_df = new_mouse_df.loc[(new_mouse_df[\"Drug Regimen\"]==\"Capomulin\") | (new_mouse_df[\"Drug Regimen\"]==\"Ramicane\") | (new_mouse_df[\"Drug Regimen\"]==\"Infubinol\") | (new_mouse_df[\"Drug Regimen\"]==\"Ceftamin\")]\n",
    "\n",
    "new_mouse_df.head()\n"
   ]
  },
  {
   "cell_type": "markdown",
   "metadata": {},
   "source": [
    "### I had already sorted the original data by timepoint before removing duplicates but the last so the (# Start by getting the last (greatest) timepoint for each mouse) w"
   ]
  },
  {
   "cell_type": "code",
   "execution_count": 21,
   "metadata": {},
   "outputs": [
    {
     "name": "stdout",
     "output_type": "stream",
     "text": [
      "The IQR for Capomulin is 7.78 and there are 0 potential outliers. They are []\n",
      "The IQR for Ramicane is 9.1 and there are 0 potential outliers. They are []\n",
      "The IQR for Infubinol is 11.48 and there are 1 potential outliers. They are [[36.321345799999996]]\n",
      "The IQR for Ceftamin is 15.58 and there are 0 potential outliers. They are []\n"
     ]
    }
   ],
   "source": [
    "# Put treatments into a list for for loop (and later for plot labels)\n",
    "# Create empty list to fill with tumor vol data (for plotting)\n",
    "\n",
    "drug_tumor_df = new_mouse_df[[\"Drug Regimen\",\"Tumor Volume (mm3)\"]]\n",
    "treatments=new_mouse_df['Drug Regimen'].unique()\n",
    "\n",
    "cap_vol=drug_tumor_df.loc[drug_tumor_df[\"Drug Regimen\"]=='Capomulin'].drop(columns=[\"Drug Regimen\"])\n",
    "ram_vol=drug_tumor_df.loc[drug_tumor_df[\"Drug Regimen\"]=='Ramicane'].drop(columns=[\"Drug Regimen\"])\n",
    "inf_vol=drug_tumor_df.loc[drug_tumor_df[\"Drug Regimen\"]=='Infubinol'].drop(columns=[\"Drug Regimen\"])\n",
    "cef_vol=drug_tumor_df.loc[drug_tumor_df[\"Drug Regimen\"]=='Ceftamin'].drop(columns=[\"Drug Regimen\"])\n",
    "\n",
    "cap_quartiles=cap_vol[\"Tumor Volume (mm3)\"].quantile([0.25,0.5,0.75])\n",
    "ram_quartiles=ram_vol[\"Tumor Volume (mm3)\"].quantile([0.25,0.5,0.75])\n",
    "inf_quartiles=inf_vol[\"Tumor Volume (mm3)\"].quantile([0.25,0.5,0.75])\n",
    "cef_quartiles=cef_vol[\"Tumor Volume (mm3)\"].quantile([0.25,0.5,0.75])\n",
    "\n",
    "cap_iql =cap_quartiles[0.75]-cap_quartiles[0.25]\n",
    "ram_iql =ram_quartiles[0.75]-ram_quartiles[0.25]\n",
    "inf_iql =inf_quartiles[0.75]-inf_quartiles[0.25]\n",
    "cef_iql =cef_quartiles[0.75]-cef_quartiles[0.25]\n",
    "\n",
    "cap_upper_bound = cap_quartiles[0.75] + (1.5*cap_iql)\n",
    "cap_lower_bound = cap_quartiles[0.25] - (1.5*cap_iql)\n",
    "ram_upper_bound = ram_quartiles[0.75] + (1.5*ram_iql)\n",
    "ram_lower_bound = ram_quartiles[0.25] - (1.5*ram_iql)\n",
    "inf_upper_bound = inf_quartiles[0.75] + (1.5*inf_iql)\n",
    "inf_lower_bound = inf_quartiles[0.25] - (1.5*inf_iql)\n",
    "cef_upper_bound = cef_quartiles[0.75] + (1.5*cef_iql)\n",
    "cef_lower_bound = cef_quartiles[0.25] - (1.5*cef_iql)\n",
    "\n",
    "cap_outliers = cap_vol.loc[(cap_vol[\"Tumor Volume (mm3)\"]<cap_lower_bound) | (cap_vol[\"Tumor Volume (mm3)\"]>cap_upper_bound)]\n",
    "ram_outliers = ram_vol.loc[(ram_vol[\"Tumor Volume (mm3)\"]<ram_lower_bound) | (ram_vol[\"Tumor Volume (mm3)\"]>ram_upper_bound)]\n",
    "inf_outliers = inf_vol.loc[(inf_vol[\"Tumor Volume (mm3)\"]<inf_lower_bound) | (inf_vol[\"Tumor Volume (mm3)\"]>inf_upper_bound)]\n",
    "cef_outliers = cef_vol.loc[(cef_vol[\"Tumor Volume (mm3)\"]<cef_lower_bound) | (cef_vol[\"Tumor Volume (mm3)\"]>cef_upper_bound)]\n",
    "cap_outliers=cap_outliers.values.tolist()\n",
    "ram_outliers=ram_outliers.values.tolist()\n",
    "inf_outliers=inf_outliers.values.tolist()\n",
    "cef_outliers=cef_outliers.values.tolist()\n",
    "\n",
    "print(f'The IQR for Capomulin is {round(cap_iql,2)} and there are {len(cap_outliers)} potential outliers. They are {cap_outliers}')   \n",
    "print(f'The IQR for Ramicane is {round(ram_iql,2)} and there are {len(ram_outliers)} potential outliers. They are {ram_outliers}')\n",
    "print(f'The IQR for Infubinol is {round(inf_iql,2)} and there are {len(inf_outliers)} potential outliers. They are {inf_outliers}')\n",
    "print(f'The IQR for Ceftamin is {round(cef_iql,2)} and there are {len(cef_outliers)} potential outliers. They are {cef_outliers}')\n",
    "\n",
    "\n",
    "    \n",
    "    \n",
    "# Calculate the IQR and quantitatively determine if there are any potential outliers. \n",
    "\n",
    "    # Locate the rows which contain mice on each drug and get the tumor volumes\n",
    "    \n",
    "    \n",
    "    # add subset \n",
    "    \n",
    "    # Determine outliers using upper and lower bounds\n",
    "    "
   ]
  },
  {
   "cell_type": "code",
   "execution_count": 22,
   "metadata": {},
   "outputs": [
    {
     "data": {
      "image/png": "[encoded data removed]",
      "text/plain": [
       "<Figure size 432x288 with 1 Axes>"
      ]
     },
     "metadata": {
      "needs_background": "light"
     },
     "output_type": "display_data"
    }
   ],
   "source": [
    "# Generate a box plot of the final tumor volume of each mouse across four regimens of interest\n",
    "\n",
    "data=[cap_vol[\"Tumor Volume (mm3)\"],ram_vol[\"Tumor Volume (mm3)\"],inf_vol[\"Tumor Volume (mm3)\"],cef_vol[\"Tumor Volume (mm3)\"]]\n",
    "green_diamond = dict(markerfacecolor='g', marker='D')\n",
    "fig1, ax1 = plt.subplots()\n",
    "ax1.set_title('Quartiles and Outliers for the 4 Specific Treatments')\n",
    "ax1.boxplot(data,flierprops=green_diamond,labels=treatments)\n",
    "plt.xlabel(\"Treatment\")\n",
    "plt.ylabel(\"Tumor Volume (mm3)\")\n",
    "\n",
    "plt.show()\n",
    "\n"
   ]
  },
  {
   "cell_type": "markdown",
   "metadata": {},
   "source": [
    "## Seaborn looks way better though"
   ]
  },
  {
   "cell_type": "code",
   "execution_count": 23,
   "metadata": {
    "scrolled": true
   },
   "outputs": [
    {
     "data": {
      "image/png": "[encoded data removed]",
      "text/plain": [
       "<Figure size 432x288 with 1 Axes>"
      ]
     },
     "metadata": {
      "needs_background": "light"
     },
     "output_type": "display_data"
    }
   ],
   "source": [
    "\n",
    "\n",
    "drug_tumor_plot = sns.boxplot(y=\"Tumor Volume (mm3)\",x=\"Drug Regimen\",data=drug_tumor_df,width=0.5)\n",
    "\n"
   ]
  },
  {
   "cell_type": "markdown",
   "metadata": {},
   "source": [
    "## Line and Scatter Plots"
   ]
  },
  {
   "cell_type": "code",
   "execution_count": 24,
   "metadata": {},
   "outputs": [
    {
     "data": {
      "text/plain": [
       "Text(0, 0.5, 'Tumor Volume (mm3)')"
      ]
     },
     "execution_count": 24,
     "metadata": {},
     "output_type": "execute_result"
    },
    {
     "data": {
      "image/png": "[encoded data removed]",
      "text/plain": [
       "<Figure size 432x288 with 1 Axes>"
      ]
     },
     "metadata": {
      "needs_background": "light"
     },
     "output_type": "display_data"
    }
   ],
   "source": [
    "# Generate a line plot of time point versus tumor volume for a mouse treated with Capomulin\n",
    "s185=mouse_df.loc[mouse_df['Mouse ID'] == 's185']\n",
    "\n",
    "x_values = s185[\"Timepoint\"]\n",
    "y_values = s185[\"Tumor Volume (mm3)\"]\n",
    "\n",
    "plt.plot(x_values,y_values)\n",
    "plt.title(\"s185 Tumor Size over Time\")\n",
    "plt.xlabel(\"Timepoint\")\n",
    "plt.ylabel(\"Tumor Volume (mm3)\")\n",
    "\n"
   ]
  },
  {
   "cell_type": "code",
   "execution_count": 25,
   "metadata": {},
   "outputs": [
    {
     "data": {
      "text/plain": [
       "Text(0, 0.5, 'Average Tumor Volume (mm3)')"
      ]
     },
     "execution_count": 25,
     "metadata": {},
     "output_type": "execute_result"
    },
    {
     "data": {
      "image/png": "[encoded data removed]",
      "text/plain": [
       "<Figure size 432x288 with 1 Axes>"
      ]
     },
     "metadata": {
      "needs_background": "light"
     },
     "output_type": "display_data"
    }
   ],
   "source": [
    "# Generate a scatter plot of mouse weight versus average tumor volume for the Capomulin regimen\n",
    "capomulin_df=mouse_df.loc[mouse_df['Drug Regimen'] == 'Capomulin']\n",
    "\n",
    "avg_cap_tumor = capomulin_df.groupby(\"Mouse ID\").agg({\"Tumor Volume (mm3)\":'mean',\"Weight (g)\":'min'})\n",
    "\n",
    "plt.scatter(avg_cap_tumor[\"Weight (g)\"],avg_cap_tumor[\"Tumor Volume (mm3)\"])\n",
    "plt.title(\"Weight vs Average Tumor Volume\")\n",
    "plt.xlabel(\"Mouse Weight (grams)\")\n",
    "plt.ylabel(\"Average Tumor Volume (mm3)\")\n"
   ]
  },
  {
   "cell_type": "markdown",
   "metadata": {},
   "source": [
    "## Correlation and Regression"
   ]
  },
  {
   "cell_type": "code",
   "execution_count": 26,
   "metadata": {
    "scrolled": true
   },
   "outputs": [
    {
     "name": "stdout",
     "output_type": "stream",
     "text": [
      "The corrleation coefficient is 0.84 meaning there is a strong correlation.\n",
      "The Linear Regress model for this is y=0.95x + 21.55\n"
     ]
    },
    {
     "data": {
      "image/png": "[encoded data removed]",
      "text/plain": [
       "<Figure size 432x288 with 1 Axes>"
      ]
     },
     "metadata": {
      "needs_background": "light"
     },
     "output_type": "display_data"
    }
   ],
   "source": [
    "# Calculate the correlation coefficient and linear regression model \n",
    "# for mouse weight and average tumor volume for the Capomulin regimen\n",
    "\n",
    "(slope,intercept,rvalue,pvalue,stderr)=st.linregress(avg_cap_tumor[\"Weight (g)\"],avg_cap_tumor[\"Tumor Volume (mm3)\"])\n",
    "\n",
    "regress_values = slope*avg_cap_tumor[\"Weight (g)\"]+intercept\n",
    "\n",
    "line_eq = \"y=\" + str(round(slope,2)) + \"x + \" + str(round(intercept,2))\n",
    "\n",
    "\n",
    "plt.scatter(avg_cap_tumor[\"Weight (g)\"],avg_cap_tumor[\"Tumor Volume (mm3)\"])\n",
    "plt.title(\"Weight vs Average Tumor Volume\")\n",
    "plt.xlabel(\"Mouse Weight (grams)\")\n",
    "plt.ylabel(\"Average Tumor Volume (mm3)\")\n",
    "plt.plot(avg_cap_tumor[\"Weight (g)\"],regress_values,\"r\")\n",
    "plt.annotate(line_eq,(20,35),fontsize=15)\n",
    "\n",
    "print(f'The corrleation coefficient is {round(rvalue,2)} meaning there is a strong correlation.')\n",
    "print(f'The Linear Regress model for this is {line_eq}')"
   ]
  },
  {
   "cell_type": "code",
   "execution_count": null,
   "metadata": {},
   "outputs": [],
   "source": []
  }
 ],
 "metadata": {
  "anaconda-cloud": {},
  "kernelspec": {
   "display_name": "Python 3",
   "language": "python",
   "name": "python3"
  },
  "language_info": {
   "codemirror_mode": {
    "name": "ipython",
    "version": 3
   },
   "file_extension": ".py",
   "mimetype": "text/x-python",
   "name": "python",
   "nbconvert_exporter": "python",
   "pygments_lexer": "ipython3",
   "version": "3.8.3"
  }
 },
 "nbformat": 4,
 "nbformat_minor": 2
}
